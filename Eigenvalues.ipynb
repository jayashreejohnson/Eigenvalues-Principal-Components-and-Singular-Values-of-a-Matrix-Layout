{
  "nbformat": 4,
  "nbformat_minor": 0,
  "metadata": {
    "colab": {
      "provenance": []
    },
    "kernelspec": {
      "name": "python3",
      "display_name": "Python 3"
    },
    "language_info": {
      "name": "python"
    }
  },
  "cells": [
    {
      "cell_type": "code",
      "source": [
        "import numpy as np\n",
        "from sklearn.decomposition import PCA\n",
        "import time"
      ],
      "metadata": {
        "id": "sn52KMgfTKkI"
      },
      "execution_count": 8,
      "outputs": []
    },
    {
      "cell_type": "markdown",
      "source": [
        "Task 1\n"
      ],
      "metadata": {
        "id": "CaSCJ-Npqt55"
      }
    },
    {
      "cell_type": "code",
      "source": [
        "import numpy as np\n",
        "import sympy as sp\n",
        "\n",
        "# Define the matrix\n",
        "A = np.array([\n",
        "    [0, 1, 1],\n",
        "    [np.sqrt(2), 2, 0],\n",
        "    [0, 1, 1]\n",
        "])\n",
        "\n",
        "# Compute eigenvalues and eigenvectors using numpy\n",
        "eigenvalues, eigenvectors = np.linalg.eig(A)\n",
        "\n",
        "# Display eigenvalues in symbolic form to match the output format\n",
        "# Define symbols to show exact values\n",
        "sqrt2 = sp.sqrt(2)\n",
        "eigenvalues_exact = [\n",
        "    (3/2) - (sp.sqrt(1 + 4 * sqrt2) / 2),\n",
        "    (sp.sqrt(1 + 4 * sqrt2) / 2) + (3/2),\n",
        "    0\n",
        "]\n",
        "\n",
        "# Displaying eigenvalues\n",
        "print(\"The eigenvalues are:\")\n",
        "for i, eigenval in enumerate(eigenvalues_exact):\n",
        "    print(f\"λ_{i+1} =\", eigenval)\n",
        "\n",
        "# Find the corresponding eigenvectors for each eigenvalue\n",
        "# (Using numpy's eigenvectors for a numerical approximation)\n",
        "print(\"\\nThe corresponding eigenvectors are (numerical approximation):\")\n",
        "for i, eigenvector in enumerate(eigenvectors.T):\n",
        "    print(f\"Eigenvector for λ_{i+1}:\", eigenvector)\n"
      ],
      "metadata": {
        "colab": {
          "base_uri": "https://localhost:8080/"
        },
        "id": "d876GOZgcVBj",
        "outputId": "93ce955b-379d-4f11-da57-ec4b7d1327e7"
      },
      "execution_count": 9,
      "outputs": [
        {
          "output_type": "stream",
          "name": "stdout",
          "text": [
            "The eigenvalues are:\n",
            "λ_1 = 1.5 - sqrt(1 + 4*sqrt(2))/2\n",
            "λ_2 = sqrt(1 + 4*sqrt(2))/2 + 1.5\n",
            "λ_3 = 0\n",
            "\n",
            "The corresponding eigenvectors are (numerical approximation):\n",
            "Eigenvector for λ_1: [-0.43834959 -0.78466507 -0.43834959]\n",
            "Eigenvector for λ_2: [ 0.70710678 -0.5         0.5       ]\n",
            "Eigenvector for λ_3: [ 0.61731105 -0.4877029   0.61731105]\n"
          ]
        }
      ]
    },
    {
      "cell_type": "markdown",
      "source": [
        "Task 2"
      ],
      "metadata": {
        "id": "IpzhujMvr1la"
      }
    },
    {
      "cell_type": "code",
      "source": [
        "import numpy as np\n",
        "\n",
        "# Step 1: Standardize / Normalize Data (Mean Centering)\n",
        "def standardize_data(matrix):\n",
        "    # Subtract the mean of each column (feature)\n",
        "    mean_centered = matrix - np.mean(matrix, axis=0)\n",
        "    return mean_centered\n",
        "\n",
        "# Step 2: Compute the Covariance Matrix\n",
        "def compute_covariance_matrix(matrix):\n",
        "    covariance_matrix = np.cov(matrix, rowvar=False)\n",
        "    return covariance_matrix\n",
        "\n",
        "# Step 3: Compute Eigenvectors and Eigenvalues of the Covariance Matrix\n",
        "def compute_eigen(covariance_matrix):\n",
        "    eigenvalues, eigenvectors = np.linalg.eig(covariance_matrix)\n",
        "    return eigenvalues, eigenvectors\n",
        "\n",
        "# Step 4: Compute Explained Variance and Select N Principal Components\n",
        "def explained_variance(eigenvalues):\n",
        "    total_variance = sum(eigenvalues)\n",
        "    explained_variance_ratio = [(i / total_variance) for i in sorted(eigenvalues, reverse=True)]\n",
        "    return explained_variance_ratio\n",
        "\n",
        "# Select the top N components\n",
        "def select_top_components(eigenvalues, eigenvectors, n_components):\n",
        "    # Sort eigenvalues and eigenvectors\n",
        "    idx = eigenvalues.argsort()[::-1]  # Indices of sorted eigenvalues (in descending order)\n",
        "    sorted_eigenvalues = eigenvalues[idx]\n",
        "    sorted_eigenvectors = eigenvectors[:, idx]\n",
        "    # Select the top N components\n",
        "    top_eigenvectors = sorted_eigenvectors[:, :n_components]\n",
        "    return top_eigenvectors\n",
        "\n",
        "# Step 5: Create Feature Vector with All PCs, Sorted by Their Importance\n",
        "def create_feature_vector(matrix, top_components):\n",
        "    # Project the data onto the top principal components\n",
        "    feature_vector = np.dot(matrix, top_components)\n",
        "    return feature_vector\n",
        "\n",
        "# Main function to compute all steps of PCA\n",
        "def perform_pca(matrix, n_components):\n",
        "    # Step 1: Standardize Data\n",
        "    standardized_data = standardize_data(matrix)\n",
        "    print(\"Standardized Data (Mean Centered):\\n\", standardized_data)\n",
        "\n",
        "    # Step 2: Compute Covariance Matrix\n",
        "    covariance_matrix = compute_covariance_matrix(standardized_data)\n",
        "    print(\"\\nCovariance Matrix:\\n\", covariance_matrix)\n",
        "\n",
        "    # Step 3: Compute Eigenvalues and Eigenvectors\n",
        "    eigenvalues, eigenvectors = compute_eigen(covariance_matrix)\n",
        "    print(\"\\nEigenvalues:\\n\", eigenvalues)\n",
        "    print(\"\\nEigenvectors:\\n\", eigenvectors)\n",
        "\n",
        "    # Step 4: Explained Variance Ratio\n",
        "    explained_variance_ratio = explained_variance(eigenvalues)\n",
        "    print(\"\\nExplained Variance Ratio:\\n\", explained_variance_ratio)\n",
        "\n",
        "    # Step 5: Select Top N Components and Create Feature Vector\n",
        "    top_components = select_top_components(eigenvalues, eigenvectors, n_components)\n",
        "    feature_vector = create_feature_vector(standardized_data, top_components)\n",
        "    print(\"\\nFeature Vector (Principal Components):\\n\", feature_vector)\n",
        "\n",
        "    return feature_vector\n",
        "\n",
        "# Define the data matrix (example matrix)\n",
        "A = np.array([[2.5, 2.4], [0.5, 0.7], [2.2, 2.9], [1.9, 2.2], [3.1, 3.0], [2.3, 2.7], [2, 1.6], [1, 1.1], [1.5, 1.6], [1.1, 0.9]])\n",
        "\n",
        "# Number of principal components to select\n",
        "n_components = 2\n",
        "\n",
        "# Run PCA\n",
        "feature_vector = perform_pca(A, n_components)"
      ],
      "metadata": {
        "colab": {
          "base_uri": "https://localhost:8080/"
        },
        "id": "tHwB6unzcbEQ",
        "outputId": "d2bce66d-1639-4ee9-86b8-a71887a40fcb"
      },
      "execution_count": 10,
      "outputs": [
        {
          "output_type": "stream",
          "name": "stdout",
          "text": [
            "Standardized Data (Mean Centered):\n",
            " [[ 0.69  0.49]\n",
            " [-1.31 -1.21]\n",
            " [ 0.39  0.99]\n",
            " [ 0.09  0.29]\n",
            " [ 1.29  1.09]\n",
            " [ 0.49  0.79]\n",
            " [ 0.19 -0.31]\n",
            " [-0.81 -0.81]\n",
            " [-0.31 -0.31]\n",
            " [-0.71 -1.01]]\n",
            "\n",
            "Covariance Matrix:\n",
            " [[0.61655556 0.61544444]\n",
            " [0.61544444 0.71655556]]\n",
            "\n",
            "Eigenvalues:\n",
            " [0.0490834  1.28402771]\n",
            "\n",
            "Eigenvectors:\n",
            " [[-0.73517866 -0.6778734 ]\n",
            " [ 0.6778734  -0.73517866]]\n",
            "\n",
            "Explained Variance Ratio:\n",
            " [0.9631813143486458, 0.036818685651354155]\n",
            "\n",
            "Feature Vector (Principal Components):\n",
            " [[-0.82797019 -0.17511531]\n",
            " [ 1.77758033  0.14285723]\n",
            " [-0.99219749  0.38437499]\n",
            " [-0.27421042  0.13041721]\n",
            " [-1.67580142 -0.20949846]\n",
            " [-0.9129491   0.17528244]\n",
            " [ 0.09910944 -0.3498247 ]\n",
            " [ 1.14457216  0.04641726]\n",
            " [ 0.43804614  0.01776463]\n",
            " [ 1.22382056 -0.16267529]]\n"
          ]
        }
      ]
    },
    {
      "cell_type": "markdown",
      "source": [
        "Task  3"
      ],
      "metadata": {
        "id": "hFWUID35rJ0U"
      }
    },
    {
      "cell_type": "code",
      "source": [
        "import numpy as np\n",
        "import time\n",
        "\n",
        "def custom_svd(matrix):\n",
        "    # Step 1: Compute A^T * A and A * A^T\n",
        "    ATA = matrix.T @ matrix\n",
        "    AAT = matrix @ matrix.T\n",
        "\n",
        "    # Step 2: Eigen decomposition of A^T * A and A * A^T\n",
        "    eigenvalues_v, V = np.linalg.eig(ATA)  # V contains eigenvectors of A^T * A\n",
        "    eigenvalues_u, U = np.linalg.eig(AAT)  # U contains eigenvectors of A * A^T\n",
        "\n",
        "    # Step 3: Sort singular values (square roots of eigenvalues) in descending order\n",
        "    singular_values = np.sqrt(np.sort(eigenvalues_u)[::-1])\n",
        "\n",
        "    # Step 4: Create Sigma matrix with singular values on the diagonal\n",
        "    Sigma = np.zeros_like(matrix, dtype=float)\n",
        "    for i in range(len(singular_values)):\n",
        "        Sigma[i, i] = singular_values[i]\n",
        "\n",
        "    return U, Sigma, V.T\n",
        "\n",
        "# Test matrix\n",
        "A = np.array([[1, 2, 0], [2, 3, 1], [0, 1, 0]])\n",
        "\n",
        "# Custom SVD computation\n",
        "start_time = time.time()\n",
        "U_custom, Sigma_custom, VT_custom = custom_svd(A)\n",
        "end_time = time.time()\n",
        "print(\"Custom SVD computation time:\", end_time - start_time, \"seconds\")\n",
        "print(\"U matrix:\\n\", U_custom)\n",
        "print(\"Sigma matrix:\\n\", Sigma_custom)\n",
        "print(\"V^T matrix:\\n\", VT_custom)\n",
        "\n",
        "# Using numpy's SVD for comparison\n",
        "start_time_np = time.time()\n",
        "U_np, Sigma_np, VT_np = np.linalg.svd(A, full_matrices=True)\n",
        "end_time_np = time.time()\n",
        "print(\"Numpy SVD computation time:\", end_time_np - start_time_np, \"seconds\")\n",
        "print(\"U matrix from Numpy:\\n\", U_np)\n",
        "print(\"Sigma matrix from Numpy:\\n\", np.diag(Sigma_np))\n",
        "print(\"V^T matrix from Numpy:\\n\", VT_np)"
      ],
      "metadata": {
        "colab": {
          "base_uri": "https://localhost:8080/"
        },
        "id": "8a85rifOnEnE",
        "outputId": "f63891ba-ee3a-4f96-ad91-2a6706f7e043"
      },
      "execution_count": 11,
      "outputs": [
        {
          "output_type": "stream",
          "name": "stdout",
          "text": [
            "Custom SVD computation time: 0.0013272762298583984 seconds\n",
            "U matrix:\n",
            " [[-0.49727948 -0.6611152   0.56181831]\n",
            " [-0.84604119  0.2260912  -0.48280128]\n",
            " [-0.19216509  0.7154086   0.6717612 ]]\n",
            "Sigma matrix:\n",
            " [[4.40267883 0.         0.        ]\n",
            " [0.         0.71870969 0.        ]\n",
            " [0.         0.         0.31603086]]\n",
            "V^T matrix:\n",
            " [[-0.49727948 -0.84604119 -0.19216509]\n",
            " [-0.6611152   0.2260912   0.7154086 ]\n",
            " [ 0.56181831 -0.48280128  0.6717612 ]]\n",
            "Numpy SVD computation time: 0.00029397010803222656 seconds\n",
            "U matrix from Numpy:\n",
            " [[-0.49727948  0.56181831 -0.6611152 ]\n",
            " [-0.84604119 -0.48280128  0.2260912 ]\n",
            " [-0.19216509  0.6717612   0.7154086 ]]\n",
            "Sigma matrix from Numpy:\n",
            " [[4.40267883 0.         0.        ]\n",
            " [0.         0.71870969 0.        ]\n",
            " [0.         0.         0.31603086]]\n",
            "V^T matrix from Numpy:\n",
            " [[-0.49727948 -0.84604119 -0.19216509]\n",
            " [-0.56181831  0.48280128 -0.6717612 ]\n",
            " [-0.6611152   0.2260912   0.7154086 ]]\n"
          ]
        }
      ]
    },
    {
      "cell_type": "markdown",
      "source": [
        "Task 4"
      ],
      "metadata": {
        "id": "9jSxMUwRqC1I"
      }
    },
    {
      "cell_type": "code",
      "source": [
        "%%time\n",
        "# Define a recursive Fibonacci function\n",
        "def fib(n):\n",
        "    if n <= 1:\n",
        "        return n\n",
        "    return fib(n - 1) + fib(n - 2)\n",
        "\n",
        "# Call the Fibonacci function\n",
        "result = fib(32)\n",
        "print(result)"
      ],
      "metadata": {
        "colab": {
          "base_uri": "https://localhost:8080/"
        },
        "id": "owm4y1AknCMo",
        "outputId": "1a50c5b1-4ad1-4864-f4b5-45f0e1ab6fca"
      },
      "execution_count": 12,
      "outputs": [
        {
          "output_type": "stream",
          "name": "stdout",
          "text": [
            "2178309\n",
            "CPU times: user 873 ms, sys: 965 µs, total: 874 ms\n",
            "Wall time: 875 ms\n"
          ]
        }
      ]
    },
    {
      "cell_type": "markdown",
      "source": [
        "Task 5"
      ],
      "metadata": {
        "id": "g7OgFMvgpztD"
      }
    },
    {
      "cell_type": "code",
      "source": [
        "import time\n",
        "\n",
        "# Start time\n",
        "start = time.time()\n",
        "\n",
        "# The code you want to test stays here\n",
        "# For example, let's calculate the Fibonacci number for n = 32\n",
        "def fib(n):\n",
        "    if n <= 1:\n",
        "        return n\n",
        "    return fib(n - 1) + fib(n - 2)\n",
        "\n",
        "result = fib(32)\n",
        "print(result)\n",
        "\n",
        "# End time\n",
        "end = time.time()\n",
        "\n",
        "# Print the runtime\n",
        "print(\"Execution time:\", end - start, \"seconds\")"
      ],
      "metadata": {
        "colab": {
          "base_uri": "https://localhost:8080/"
        },
        "id": "5wtAx4_yn1xp",
        "outputId": "380e1122-6870-460c-d997-141bbb2295ec"
      },
      "execution_count": 13,
      "outputs": [
        {
          "output_type": "stream",
          "name": "stdout",
          "text": [
            "2178309\n",
            "Execution time: 0.8986618518829346 seconds\n"
          ]
        }
      ]
    }
  ]
}